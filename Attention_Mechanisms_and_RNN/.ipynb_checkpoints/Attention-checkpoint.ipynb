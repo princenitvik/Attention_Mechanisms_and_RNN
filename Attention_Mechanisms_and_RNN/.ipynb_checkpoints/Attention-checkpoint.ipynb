{
 "cells": [
  {
   "cell_type": "code",
   "execution_count": 6,
   "metadata": {
    "collapsed": true
   },
   "outputs": [],
   "source": [
    "import numpy as np\n",
    "import torch\n",
    "import torch.nn as nn\n",
    "import torch.nn.functional as F\n",
    "import pandas as pd\n",
    "import seaborn as sns\n",
    "\n",
    "from torch.autograd import Variable\n",
    "from matplotlib import pyplot as plt\n",
    "%matplotlib inline"
   ]
  },
  {
   "cell_type": "code",
   "execution_count": 15,
   "metadata": {
    "collapsed": true
   },
   "outputs": [],
   "source": [
    "def generate_data(N, dim=32, attention_col=1):\n",
    "    x = np.random.standard_normal(size=(N, dim))\n",
    "    y = np.random.randint(low=10, high=15, size=(N, 1))\n",
    "    x[:, attention_col] = y[:, 0]\n",
    "    return x, y"
   ]
  },
  {
   "cell_type": "code",
   "execution_count": 64,
   "metadata": {
    "collapsed": false
   },
   "outputs": [],
   "source": [
    "class Net(nn.Module):\n",
    "    def __init__(self, ndim=32):\n",
    "        super(Net, self).__init__()\n",
    "        self.attention = nn.Linear(ndim, ndim)\n",
    "        self.out = nn.Linear(ndim, 1)\n",
    "    \n",
    "    def attn(self, x):\n",
    "        p = F.softmax(self.attention(x))\n",
    "        return p\n",
    "        \n",
    "    def forward(self, x):\n",
    "        x = x*self.attn(x)\n",
    "        x = self.out(x)\n",
    "        return x"
   ]
  },
  {
   "cell_type": "code",
   "execution_count": 78,
   "metadata": {
    "collapsed": false
   },
   "outputs": [],
   "source": [
    "model = Net(ndim=64)"
   ]
  },
  {
   "cell_type": "code",
   "execution_count": 79,
   "metadata": {
    "collapsed": false
   },
   "outputs": [],
   "source": [
    "X, y = generate_data(1000, dim=64, attention_col=42)"
   ]
  },
  {
   "cell_type": "code",
   "execution_count": 80,
   "metadata": {
    "collapsed": false
   },
   "outputs": [
    {
     "data": {
      "text/plain": [
       "((1000, 64), (1000, 1))"
      ]
     },
     "execution_count": 80,
     "metadata": {},
     "output_type": "execute_result"
    }
   ],
   "source": [
    "X.shape, y.shape"
   ]
  },
  {
   "cell_type": "code",
   "execution_count": 81,
   "metadata": {
    "collapsed": false
   },
   "outputs": [
    {
     "name": "stdout",
     "output_type": "stream",
     "text": [
      "[-2.40009816e-02 -3.28115594e-01 -1.33428487e+00 -4.40042182e-01\n",
      "  4.36615858e-02  1.28667395e-02  2.21445960e+00 -9.08326162e-03\n",
      "  1.74447976e-01 -8.57255715e-01  2.43440962e-01  8.42855129e-01\n",
      " -1.55760886e+00  2.51993942e-01  1.14845139e+00  5.34423424e-01\n",
      "  8.22225593e-01 -5.65427417e-01 -1.51547226e+00  1.04613557e+00\n",
      " -4.45812552e-01  3.80774254e-01  7.16066681e-01 -3.77222141e-02\n",
      "  2.38820714e+00  1.00839618e+00  1.46357991e+00 -1.89343121e-01\n",
      "  1.39149574e-01  4.36026300e-01 -1.84445581e+00 -9.69386939e-02\n",
      " -1.75237125e-01  1.31234296e+00 -4.93607047e-01  1.05717092e+00\n",
      " -1.49117739e+00  2.29473095e-01 -2.91730463e-01  5.05809193e-01\n",
      " -9.09752312e-01  3.26468987e-01  1.20000000e+01  2.35691230e-01\n",
      "  2.24220908e-01 -2.12964740e-01  8.17952890e-01  8.14399078e-01\n",
      " -1.61124713e+00  8.67076987e-01 -6.97395912e-02  4.86599868e-01\n",
      "  1.86697861e+00  2.32134816e+00 -2.46520406e-02 -2.71321525e-01\n",
      " -9.75945184e-01  5.42778696e-03 -8.18911211e-02  2.54748858e-01\n",
      " -1.34699921e+00  9.97880392e-01 -4.94050118e-01  7.49652317e-02] [12]\n"
     ]
    }
   ],
   "source": [
    "print X[10], y[10]"
   ]
  },
  {
   "cell_type": "code",
   "execution_count": 82,
   "metadata": {
    "collapsed": false
   },
   "outputs": [],
   "source": [
    "optimizer = torch.optim.Adam(model.parameters(), lr=0.001)\n",
    "lossfn = torch.nn.MSELoss()"
   ]
  },
  {
   "cell_type": "code",
   "execution_count": 99,
   "metadata": {
    "collapsed": false
   },
   "outputs": [
    {
     "name": "stdout",
     "output_type": "stream",
     "text": [
      "0 tensor(120.5087)\n"
     ]
    },
    {
     "name": "stderr",
     "output_type": "stream",
     "text": [
      "/usr/local/lib/python2.7/dist-packages/ipykernel/__main__.py:8: UserWarning: Implicit dimension choice for softmax has been deprecated. Change the call to include dim=X as an argument.\n"
     ]
    }
   ],
   "source": [
    "for epoch in range(10):\n",
    "    pred = model(torch.FloatTensor(X))\n",
    "    \n",
    "    loss = lossfn(pred, torch.FloatTensor(y))\n",
    "    optimizer.zero_grad()\n",
    "    \n",
    "    loss.backward()\n",
    "    optimizer.step()\n",
    "    \n",
    "    if epoch % 1000 == 0:\n",
    "        print epoch, loss"
   ]
  },
  {
   "cell_type": "code",
   "execution_count": 100,
   "metadata": {
    "collapsed": false
   },
   "outputs": [
    {
     "name": "stdout",
     "output_type": "stream",
     "text": [
      "torch.Size([1000, 1])\n"
     ]
    },
    {
     "name": "stderr",
     "output_type": "stream",
     "text": [
      "/usr/local/lib/python2.7/dist-packages/ipykernel/__main__.py:8: UserWarning: Implicit dimension choice for softmax has been deprecated. Change the call to include dim=X as an argument.\n"
     ]
    }
   ],
   "source": [
    "o = model(torch.FloatTensor(X))\n",
    "print o.shape"
   ]
  },
  {
   "cell_type": "code",
   "execution_count": 101,
   "metadata": {
    "collapsed": false
   },
   "outputs": [
    {
     "name": "stdout",
     "output_type": "stream",
     "text": [
      "[[1.1069258 ]\n",
      " [0.3734705 ]\n",
      " [2.190631  ]\n",
      " [2.7939966 ]\n",
      " [0.6847756 ]\n",
      " [3.2835212 ]\n",
      " [0.8759097 ]\n",
      " [3.5448103 ]\n",
      " [2.2681758 ]\n",
      " [0.30743653]]\n",
      "[[14]\n",
      " [13]\n",
      " [13]\n",
      " [14]\n",
      " [13]\n",
      " [14]\n",
      " [13]\n",
      " [14]\n",
      " [14]\n",
      " [12]]\n"
     ]
    }
   ],
   "source": [
    "print o[:10].data.numpy()\n",
    "print y[:10]"
   ]
  },
  {
   "cell_type": "code",
   "execution_count": 102,
   "metadata": {
    "collapsed": false,
    "scrolled": true
   },
   "outputs": [
    {
     "name": "stdout",
     "output_type": "stream",
     "text": [
      "torch.Size([1000, 64])\n"
     ]
    },
    {
     "name": "stderr",
     "output_type": "stream",
     "text": [
      "/usr/local/lib/python2.7/dist-packages/ipykernel/__main__.py:8: UserWarning: Implicit dimension choice for softmax has been deprecated. Change the call to include dim=X as an argument.\n"
     ]
    }
   ],
   "source": [
    "a = model.attn(torch.FloatTensor(X))\n",
    "print a.shape"
   ]
  },
  {
   "cell_type": "code",
   "execution_count": 103,
   "metadata": {
    "collapsed": false
   },
   "outputs": [],
   "source": [
    "k = a.data.numpy().mean(0)"
   ]
  },
  {
   "cell_type": "code",
   "execution_count": 104,
   "metadata": {
    "collapsed": true
   },
   "outputs": [],
   "source": [
    "import pandas as pd"
   ]
  },
  {
   "cell_type": "code",
   "execution_count": 105,
   "metadata": {
    "collapsed": false
   },
   "outputs": [
    {
     "name": "stdout",
     "output_type": "stream",
     "text": [
      "[0.02495728 0.0106658  0.00514865 0.02387307 0.00324008 0.00203133\n",
      " 0.02328728 0.012465   0.02051299 0.00647568 0.00305007 0.01278206\n",
      " 0.02456414 0.01871254 0.00207457 0.00204643 0.02200177 0.00319504\n",
      " 0.00397888 0.00395658 0.0039477  0.003616   0.01724926 0.00370705\n",
      " 0.01067633 0.0033175  0.00295382 0.0023438  0.00179595 0.0043285\n",
      " 0.00527418 0.00216017 0.00285135 0.00234387 0.00221097 0.02030324\n",
      " 0.00707605 0.00233335 0.00775018 0.00373469 0.03095502 0.00358173\n",
      " 0.40451956 0.00209546 0.00756478 0.00217164 0.02295757 0.01184726\n",
      " 0.00340183 0.02620704 0.00264501 0.00265983 0.00450663 0.03169254\n",
      " 0.01185717 0.00379841 0.02361562 0.02835309 0.00343503 0.00466073\n",
      " 0.01077802 0.00409597 0.00215919 0.01144774]\n"
     ]
    }
   ],
   "source": [
    "print k"
   ]
  },
  {
   "cell_type": "code",
   "execution_count": 106,
   "metadata": {
    "collapsed": false
   },
   "outputs": [
    {
     "data": {
      "image/png": "[encoded data removed]",
      "text/plain": [
       "<matplotlib.figure.Figure at 0x7fd7d8f62e10>"
      ]
     },
     "metadata": {},
     "output_type": "display_data"
    }
   ],
   "source": [
    "N = 0\n",
    "ds = pd.DataFrame(k, columns=['attention (%)'])\n",
    "ds.plot(kind='bar', title='Attention Mechanism')\n",
    "plt.show()"
   ]
  },
  {
   "cell_type": "code",
   "execution_count": null,
   "metadata": {
    "collapsed": false
   },
   "outputs": [],
   "source": []
  },
  {
   "cell_type": "code",
   "execution_count": null,
   "metadata": {
    "collapsed": false
   },
   "outputs": [],
   "source": []
  }
 ],
 "metadata": {
  "kernelspec": {
   "display_name": "Python 2",
   "language": "python",
   "name": "python2"
  },
  "language_info": {
   "codemirror_mode": {
    "name": "ipython",
    "version": 2
   },
   "file_extension": ".py",
   "mimetype": "text/x-python",
   "name": "python",
   "nbconvert_exporter": "python",
   "pygments_lexer": "ipython2",
   "version": "2.7.12"
  }
 },
 "nbformat": 4,
 "nbformat_minor": 2
}
